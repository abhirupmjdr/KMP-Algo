{
  "nbformat": 4,
  "nbformat_minor": 0,
  "metadata": {
    "colab": {
      "name": "assignment7.ipynb",
      "provenance": [],
      "include_colab_link": true
    },
    "kernelspec": {
      "name": "python3",
      "display_name": "Python 3"
    }
  },
  "cells": [
    {
      "cell_type": "markdown",
      "metadata": {
        "id": "view-in-github",
        "colab_type": "text"
      },
      "source": [
        "<a href=\"https://colab.research.google.com/github/amder111/KMP-Algo/blob/master/assignment7.ipynb\" target=\"_parent\"><img src=\"https://colab.research.google.com/assets/colab-badge.svg\" alt=\"Open In Colab\"/></a>"
      ]
    },
    {
      "cell_type": "code",
      "metadata": {
        "id": "nTDxfqPWLlCp",
        "colab_type": "code",
        "colab": {}
      },
      "source": [
        "# Python program for KMP Algorithm \n",
        "def KMPSearch(pat, txt): \n",
        "\tM = len(pat) \n",
        "\tN = len(txt) \n",
        "\n",
        "\t# create lps[] that will hold the longest prefix suffix \n",
        "\t# values for pattern \n",
        "\tlps = [0]*M \n",
        "\tj = 0 # index for pat[] \n",
        "\n",
        "\t# Preprocess the pattern (calculate lps[] array) \n",
        "\tcomputeLPSArray(pat, M, lps) \n",
        "\n",
        "\ti = 0 # index for txt[] \n",
        "\twhile (i < N): \n",
        "\t\tif (pat[j] == txt[i]): \n",
        "\t\t\ti += 1\n",
        "\t\t\tj += 1\n",
        "\n",
        "\t\tif j == M: \n",
        "\t\t\tprint (\"has found at index \" + str(i-j)) \n",
        "\t\t\tj = lps[j-1] \n",
        "\n",
        "\t\t# mismatch after j matches \n",
        "\t\telif (i < N and pat[j] != txt[i]): \n",
        "\t\t\t# Do not match lps[0..lps[j-1]] characters, \n",
        "\t\t\t# they will match anyway \n",
        "\t\t\tif (j != 0): \n",
        "\t\t\t\tj = lps[j-1] \n",
        "\t\t\telse: \n",
        "\t\t\t\ti += 1\n",
        "\n",
        "def computeLPSArray(pat, M, lps): \n",
        "\tlen = 0 # length of the previous longest prefix suffix \n",
        "\n",
        "\tlps[0] # lps[0] is always 0 \n",
        "\ti = 1\n",
        "\n",
        "\t# the loop calculates lps[i] for i = 1 to M-1 \n",
        "\twhile (i < M): \n",
        "\t\tif pat[i]== pat[len]: \n",
        "\t\t\tlen += 1\n",
        "\t\t\tlps[i] = len\n",
        "\t\t\ti += 1\n",
        "\t\telse: \n",
        "\t\t\t# This is tricky. Consider the example. \n",
        "\t\t\t# AAACAAAA and i = 7. The idea is similar \n",
        "\t\t\t# to search step. \n",
        "\t\t\tif len != 0: \n",
        "\t\t\t\tlen = lps[len-1] \n",
        "\n",
        "\t\t\t\t# Also, note that we do not increment i here \n",
        "\t\t\telse: \n",
        "\t\t\t\tlps[i] = 0\n",
        "\t\t\t\ti += 1\n",
        "\n",
        "\n",
        "\n"
      ],
      "execution_count": 0,
      "outputs": []
    },
    {
      "cell_type": "code",
      "metadata": {
        "id": "p0iMEWYbk2ra",
        "colab_type": "code",
        "outputId": "a08ee33f-4df6-4583-ce9f-f9524d8eec95",
        "colab": {
          "base_uri": "https://localhost:8080/"
        }
      },
      "source": [
        "txt = \"ABABDABACDABABCABAB\"\n",
        "pat = [\"ABABCABAB\",\"ABAB\",\"BACA\",\"ABACDA\",\"BABCABA\",\"BABDABACDABA\",\"DABACDA\",\"ABACDAB\",\"BABCAB\",\"ABAC\"]\n",
        "\n",
        "for i in range(10):\n",
        "    print(\"The patern \" + pat[i] +\" in the text \" + txt ,end=\" \" )\n",
        "    KMPSearch(pat[i], txt) "
      ],
      "execution_count": 0,
      "outputs": [
        {
          "output_type": "stream",
          "text": [
            "The patern ABABCABAB in the text ABABDABACDABABCABAB has found at index 10\n",
            "The patern ABAB in the text ABABDABACDABABCABAB has found at index 0\n",
            "has found at index 10\n",
            "has found at index 15\n",
            "The patern BACA in the text ABABDABACDABABCABAB The patern ABACDA in the text ABABDABACDABABCABAB has found at index 5\n",
            "The patern BABCABA in the text ABABDABACDABABCABAB has found at index 11\n",
            "The patern BABDABACDABA in the text ABABDABACDABABCABAB has found at index 1\n",
            "The patern DABACDA in the text ABABDABACDABABCABAB has found at index 4\n",
            "The patern ABACDAB in the text ABABDABACDABABCABAB has found at index 5\n",
            "The patern BABCAB in the text ABABDABACDABABCABAB has found at index 11\n",
            "The patern ABAC in the text ABABDABACDABABCABAB has found at index 5\n"
          ],
          "name": "stdout"
        }
      ]
    },
    {
      "cell_type": "code",
      "metadata": {
        "id": "2jDHXbe1l7Rh",
        "colab_type": "code",
        "colab": {}
      },
      "source": [
        ""
      ],
      "execution_count": 0,
      "outputs": []
    }
  ]
}